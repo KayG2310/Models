{
 "cells": [
  {
   "cell_type": "code",
   "execution_count": null,
   "id": "e0818fb2",
   "metadata": {},
   "outputs": [],
   "source": [
    "import tensorflow as tf\n",
    "from tensorflow.keras import models,layers,datasets\n",
    "import numpy as np\n",
    "import matplotlib.pyplot as plt"
   ]
  },
  {
   "cell_type": "code",
   "execution_count": null,
   "id": "7dcfdfd5",
   "metadata": {},
   "outputs": [],
   "source": [
    "(xtrain,ytrain),(xtest,ytest) = datasets.mnist.load_data()"
   ]
  },
  {
   "cell_type": "code",
   "execution_count": null,
   "id": "e0e2090e",
   "metadata": {},
   "outputs": [],
   "source": [
    "xtrain.shape"
   ]
  },
  {
   "cell_type": "code",
   "execution_count": null,
   "id": "61055c23",
   "metadata": {},
   "outputs": [],
   "source": [
    "ytrain.shape"
   ]
  },
  {
   "cell_type": "code",
   "execution_count": null,
   "id": "c375de98",
   "metadata": {},
   "outputs": [],
   "source": [
    "ytrain[:3]"
   ]
  },
  {
   "cell_type": "code",
   "execution_count": null,
   "id": "d513fcd2",
   "metadata": {},
   "outputs": [],
   "source": [
    "xtest.shape"
   ]
  },
  {
   "cell_type": "code",
   "execution_count": null,
   "id": "e2dc2bba",
   "metadata": {},
   "outputs": [],
   "source": [
    "xtrain[2]"
   ]
  },
  {
   "cell_type": "code",
   "execution_count": null,
   "id": "73627424",
   "metadata": {},
   "outputs": [],
   "source": [
    "ytrain[2]"
   ]
  },
  {
   "cell_type": "code",
   "execution_count": null,
   "id": "18e7ef1a",
   "metadata": {},
   "outputs": [],
   "source": []
  },
  {
   "cell_type": "code",
   "execution_count": null,
   "id": "a0fd3eb9",
   "metadata": {},
   "outputs": [],
   "source": [
    "def plotimage(x,y,index):\n",
    "    plt.figure(figsize=(2,2))\n",
    "    plt.imshow(x[index])\n",
    "    plt.xlabel(y[index])"
   ]
  },
  {
   "cell_type": "code",
   "execution_count": null,
   "id": "1fafed4d",
   "metadata": {},
   "outputs": [],
   "source": [
    "plotimage(xtrain,ytrain,5)"
   ]
  },
  {
   "cell_type": "code",
   "execution_count": null,
   "id": "1c498c3d",
   "metadata": {
    "scrolled": false
   },
   "outputs": [],
   "source": [
    "# normalizing the pixels\n",
    "xtrain = xtrain/255\n",
    "xtest = xtest/255\n",
    "xtrain[5]"
   ]
  },
  {
   "cell_type": "code",
   "execution_count": null,
   "id": "d6c34a16",
   "metadata": {},
   "outputs": [],
   "source": [
    "xtrain = xtrain.reshape(-1, 28,28,1)"
   ]
  },
  {
   "cell_type": "code",
   "execution_count": null,
   "id": "c624b32a",
   "metadata": {},
   "outputs": [],
   "source": [
    "xtest = xtest.reshape(-1,28,28,1\n",
    "                     )"
   ]
  },
  {
   "cell_type": "code",
   "execution_count": null,
   "id": "d37ac6e1",
   "metadata": {},
   "outputs": [],
   "source": [
    "cnn = models.Sequential([\n",
    "    layers.Conv2D(filters = 28, kernel_size=(3,3), activation='relu', input_shape=(28,28,1)),\n",
    "    layers.MaxPooling2D((2,2)),\n",
    "    layers.Conv2D(filters = 56, kernel_size=(3,3), activation='relu'),\n",
    "    layers.MaxPooling2D((2,2)),\n",
    "    layers.Flatten(),\n",
    "    layers.Dense(56, activation='relu'),\n",
    "    layers.Dense(10, activation = 'softmax')\n",
    "    \n",
    "    \n",
    "])"
   ]
  },
  {
   "cell_type": "code",
   "execution_count": null,
   "id": "62c3678f",
   "metadata": {},
   "outputs": [],
   "source": [
    "cnn.compile(\n",
    "    optimizer='adam',\n",
    "    loss = 'sparse_categorical_crossentropy',\n",
    "    metrics = ['accuracy']\n",
    ")"
   ]
  },
  {
   "cell_type": "code",
   "execution_count": null,
   "id": "48362f79",
   "metadata": {},
   "outputs": [],
   "source": [
    "cnn.fit(xtrain,ytrain, epochs = 5)"
   ]
  }
 ],
 "metadata": {
  "kernelspec": {
   "display_name": "Python 3 (ipykernel)",
   "language": "python",
   "name": "python3"
  },
  "language_info": {
   "codemirror_mode": {
    "name": "ipython",
    "version": 3
   },
   "file_extension": ".py",
   "mimetype": "text/x-python",
   "name": "python",
   "nbconvert_exporter": "python",
   "pygments_lexer": "ipython3",
   "version": "3.11.3"
  }
 },
 "nbformat": 4,
 "nbformat_minor": 5
}
